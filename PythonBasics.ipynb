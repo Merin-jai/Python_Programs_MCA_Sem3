{
 "cells": [
  {
   "cell_type": "raw",
   "id": "17024992-3c08-4516-8909-41fce2150364",
   "metadata": {},
   "source": [
    "LIST"
   ]
  },
  {
   "cell_type": "code",
   "execution_count": 2,
   "id": "f1d4e387-bf22-4015-8ec3-a259f743ff47",
   "metadata": {},
   "outputs": [
    {
     "name": "stdout",
     "output_type": "stream",
     "text": [
      "['ap', 'bp', 'cp']\n",
      "<class 'list'>\n"
     ]
    }
   ],
   "source": [
    "list = [\"ap\",\"bp\",\"cp\"]\n",
    "print(list)\n",
    "print(type(list))"
   ]
  },
  {
   "cell_type": "code",
   "execution_count": null,
   "id": "8ad1a5c7-d17b-4776-a2c3-38914e865b4a",
   "metadata": {},
   "outputs": [],
   "source": []
  },
  {
   "cell_type": "code",
   "execution_count": null,
   "id": "3f903e8d-2119-4e18-80b4-ee3eacdfa380",
   "metadata": {},
   "outputs": [],
   "source": []
  }
 ],
 "metadata": {
  "kernelspec": {
   "display_name": "Python 3 (ipykernel)",
   "language": "python",
   "name": "python3"
  },
  "language_info": {
   "codemirror_mode": {
    "name": "ipython",
    "version": 3
   },
   "file_extension": ".py",
   "mimetype": "text/x-python",
   "name": "python",
   "nbconvert_exporter": "python",
   "pygments_lexer": "ipython3",
   "version": "3.12.4"
  }
 },
 "nbformat": 4,
 "nbformat_minor": 5
}
