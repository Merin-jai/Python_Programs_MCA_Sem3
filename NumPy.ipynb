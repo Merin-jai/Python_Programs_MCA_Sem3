{
 "cells": [
  {
   "cell_type": "code",
   "execution_count": 1,
   "id": "d4b1cc20-35c4-4d8c-b21f-200510dd68b4",
   "metadata": {},
   "outputs": [
    {
     "name": "stdout",
     "output_type": "stream",
     "text": [
      "[1 2 3 4 5]\n"
     ]
    }
   ],
   "source": [
    "import numpy as np\n",
    "\n",
    "arr = np.array([1, 2, 3, 4, 5])\n",
    "\n",
    "print(arr)"
   ]
  },
  {
   "cell_type": "markdown",
   "id": "8aa6734b-9a14-4c45-90d1-ebe1bc3647a4",
   "metadata": {},
   "source": [
    "# Create a numpy array filled with all ones by defining its shape"
   ]
  },
  {
   "cell_type": "code",
   "execution_count": 3,
   "id": "0d267db7-66f9-4b9f-9f10-c285fb442ee4",
   "metadata": {},
   "outputs": [
    {
     "name": "stdout",
     "output_type": "stream",
     "text": [
      "[[1. 1. 1.]\n",
      " [1. 1. 1.]\n",
      " [1. 1. 1.]]\n"
     ]
    }
   ],
   "source": [
    "import numpy as np\n",
    "shape=(3,3)\n",
    "print(np.ones(shape))"
   ]
  },
  {
   "cell_type": "markdown",
   "id": "5cfbe942-4ac3-46b3-b6dd-3a1266ae716c",
   "metadata": {},
   "source": [
    "# How do you remove rows from a Numpy array that contains non-numeric values?"
   ]
  },
  {
   "cell_type": "code",
   "execution_count": 5,
   "id": "bcaa8f18-49bf-4d88-a049-c2bd3b2cfc6d",
   "metadata": {},
   "outputs": [
    {
     "name": "stdout",
     "output_type": "stream",
     "text": [
      "[['1' '2' '3']\n",
      " ['2' 'a' '3']\n",
      " ['a' 'b' 'c']]\n"
     ]
    }
   ],
   "source": [
    "arr=np.array([\n",
    "    [1,2,3],\n",
    "    [2,'a',3],\n",
    "    ['a','b','c']\n",
    "])\n",
    "print(arr)"
   ]
  },
  {
   "cell_type": "code",
   "execution_count": null,
   "id": "5f0b5b09-8d12-44bc-acc1-f80e271197a0",
   "metadata": {},
   "outputs": [],
   "source": []
  }
 ],
 "metadata": {
  "kernelspec": {
   "display_name": "Python 3 (ipykernel)",
   "language": "python",
   "name": "python3"
  },
  "language_info": {
   "codemirror_mode": {
    "name": "ipython",
    "version": 3
   },
   "file_extension": ".py",
   "mimetype": "text/x-python",
   "name": "python",
   "nbconvert_exporter": "python",
   "pygments_lexer": "ipython3",
   "version": "3.12.4"
  }
 },
 "nbformat": 4,
 "nbformat_minor": 5
}
