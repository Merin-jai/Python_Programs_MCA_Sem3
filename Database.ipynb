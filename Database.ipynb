{
 "cells": [
  {
   "cell_type": "code",
   "execution_count": 3,
   "id": "2c5f7254-c01e-46af-8c25-1e62542e3ace",
   "metadata": {},
   "outputs": [],
   "source": [
    "import mysql.connector\n",
    "\n",
    "host = \"localhost\"\n",
    "user = \"root\"\n",
    "password = \"\"\n",
    "database = \"student\""
   ]
  },
  {
   "cell_type": "code",
   "execution_count": 4,
   "id": "94dc8f43-5f1a-4443-aa9a-22be28197e74",
   "metadata": {},
   "outputs": [],
   "source": [
    "connect = mysql.connector.connect (host=host, user=user, password=password,database=database)"
   ]
  },
  {
   "cell_type": "code",
   "execution_count": 6,
   "id": "f397d682-7de6-40dc-9df4-04e29a0a2186",
   "metadata": {},
   "outputs": [],
   "source": [
    "cursor = connect.cursor()"
   ]
  },
  {
   "cell_type": "code",
   "execution_count": 9,
   "id": "5607707a-f5d0-4995-a53a-aec9a7ead0d3",
   "metadata": {},
   "outputs": [
    {
     "name": "stdout",
     "output_type": "stream",
     "text": [
      "(1, 'admin@gmail.com', '1234')\n"
     ]
    }
   ],
   "source": [
    "cursor.execute(\"Select * from user\")\n",
    "result=cursor.fetchall()\n",
    "for row in result:\n",
    "    print(row)\n",
    "cursor.close()\n",
    "connect.close()"
   ]
  },
  {
   "cell_type": "code",
   "execution_count": 12,
   "id": "3a09473d-c655-4ed3-b0ae-00da7f29668c",
   "metadata": {},
   "outputs": [],
   "source": [
    "import sqlite3 as sq\n"
   ]
  },
  {
   "cell_type": "code",
   "execution_count": 15,
   "id": "49da2d01-0dd3-41bb-a716-028c837345b6",
   "metadata": {},
   "outputs": [],
   "source": [
    "connection = sq.connect(\"database.db\")\n",
    "cur=connection.cursor()\n"
   ]
  },
  {
   "cell_type": "code",
   "execution_count": 17,
   "id": "62c3e9ba-8fa7-49e4-a861-d9aad9cc2259",
   "metadata": {},
   "outputs": [
    {
     "data": {
      "text/plain": [
       "<sqlite3.Cursor at 0x1a35b75f240>"
      ]
     },
     "execution_count": 17,
     "metadata": {},
     "output_type": "execute_result"
    }
   ],
   "source": [
    "cur.execute(\"CREATE TABLE IF NOT EXISTS USER (id int, name varchar)\")"
   ]
  },
  {
   "cell_type": "code",
   "execution_count": 19,
   "id": "70c729a5-3488-4ccb-9047-0ef5a0b88a12",
   "metadata": {},
   "outputs": [],
   "source": [
    "cur.execute(\"Insert into user values(?,?)\",(1,\"ram\"))"
   ]
  },
  {
   "cell_type": "code",
   "execution_count": 21,
   "id": "b2b01e11-839b-47a2-bd92-cb0b8126b882",
   "metadata": {},
   "outputs": [
    {
     "name": "stdout",
     "output_type": "stream",
     "text": [
      "(1, 'ram')\n"
     ]
    }
   ],
   "source": [
    "cur.execute(\"Select * from user\")\n",
    "result = cur.fetchall()\n",
    "for row in result :\n",
    "    print(row)"
   ]
  },
  {
   "cell_type": "code",
   "execution_count": 1,
   "id": "9ad43134-ef12-4161-9e6a-03d50bfeff1d",
   "metadata": {},
   "outputs": [
    {
     "name": "stdout",
     "output_type": "stream",
     "text": [
      "Inserted 1 row(s) into the database.\n"
     ]
    }
   ],
   "source": [
    "import mysql.connector\n",
    "\n",
    "# Step 1: Connect to MySQL database\n",
    "conn = mysql.connector.connect(\n",
    "    host=\"localhost\",          # Your MySQL server host\n",
    "    user=\"root\",               # Your MySQL username\n",
    "    password=\"\",  # Your MySQL password\n",
    "    database=\"student\"   # Your MySQL database name\n",
    ")\n",
    "\n",
    "# Step 2: Create a cursor object\n",
    "cursor = conn.cursor()\n",
    "\n",
    "# Step 3: Define the SQL query for inserting data\n",
    "insert_query = \"\"\"\n",
    "INSERT INTO users (name, username, password) \n",
    "VALUES (%s, %s, %s)\n",
    "\"\"\"\n",
    "\n",
    "# Step 4: Define the data to insert\n",
    "name = \"Alice Smith\"\n",
    "username = \"alice123\"\n",
    "password = \"securepassword\"\n",
    "\n",
    "# Step 5: Execute the query and insert the data\n",
    "cursor.execute(insert_query, (name, username, password))\n",
    "\n",
    "# Step 6: Commit the transaction to save changes in the database\n",
    "conn.commit()\n",
    "\n",
    "# Print how many rows were inserted\n",
    "print(f\"Inserted {cursor.rowcount} row(s) into the database.\")\n",
    "\n",
    "# Step 7: Close the cursor and connection\n",
    "cursor.close()\n",
    "conn.close()\n"
   ]
  },
  {
   "cell_type": "code",
   "execution_count": null,
   "id": "901d5457-96a5-464a-9f00-a31030b287d8",
   "metadata": {},
   "outputs": [],
   "source": []
  }
 ],
 "metadata": {
  "kernelspec": {
   "display_name": "Python 3 (ipykernel)",
   "language": "python",
   "name": "python3"
  },
  "language_info": {
   "codemirror_mode": {
    "name": "ipython",
    "version": 3
   },
   "file_extension": ".py",
   "mimetype": "text/x-python",
   "name": "python",
   "nbconvert_exporter": "python",
   "pygments_lexer": "ipython3",
   "version": "3.12.4"
  }
 },
 "nbformat": 4,
 "nbformat_minor": 5
}
