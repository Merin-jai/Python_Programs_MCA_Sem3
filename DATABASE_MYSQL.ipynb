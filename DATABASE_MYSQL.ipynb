{
 "cells": [
  {
   "cell_type": "markdown",
   "id": "6ee23e66-2a7f-43de-ab90-d1cf1f9ff397",
   "metadata": {},
   "source": [
    "# Create Connection"
   ]
  },
  {
   "cell_type": "code",
   "execution_count": 51,
   "id": "eb6aeaa2-2787-4bee-bd55-b3d7f0d74668",
   "metadata": {},
   "outputs": [
    {
     "name": "stdout",
     "output_type": "stream",
     "text": [
      "Connected to the database\n"
     ]
    }
   ],
   "source": [
    "\n",
    "import mysql.connector as sql\n",
    "conn=sql.connect(host=\"localhost\",user=\"root\", password=\"\",database=\"student\")\n",
    "cur=conn.cursor()\n",
    "if conn.is_connected():\n",
    "    print(\"Connected to the database\")\n",
    "else:\n",
    "    print(\"Connection failed\")\n"
   ]
  },
  {
   "cell_type": "markdown",
   "id": "6afac4f7-26b5-4d1c-8181-cc4956248fb8",
   "metadata": {},
   "source": [
    "# CREATE NEW TABLE STUDENT_TD"
   ]
  },
  {
   "cell_type": "code",
   "execution_count": 48,
   "id": "b2f150d2-5d41-42d5-8c21-419d40db38dc",
   "metadata": {},
   "outputs": [],
   "source": [
    "cur.execute(\"Create table if not exists student_tb  (id int, name varchar(10), department varchar(10))\")"
   ]
  },
  {
   "cell_type": "markdown",
   "id": "56014236-c8b5-44af-a47a-b2d9da176c3d",
   "metadata": {},
   "source": [
    "# INSERT INTO TABLE"
   ]
  },
  {
   "cell_type": "code",
   "execution_count": 52,
   "id": "fee6d618-a863-4d96-b94e-ee3c020eb536",
   "metadata": {},
   "outputs": [
    {
     "name": "stdin",
     "output_type": "stream",
     "text": [
      "Enter ID :  30\n",
      "Enter name :  leo\n",
      "Enter dept :  cs\n"
     ]
    },
    {
     "name": "stdout",
     "output_type": "stream",
     "text": [
      "INSERTED SUCCESSFULLY\n"
     ]
    }
   ],
   "source": [
    "id = input(\"Enter ID : \")\n",
    "name = input(\"Enter name : \")\n",
    "dept = input(\"Enter dept : \")\n",
    "cur.execute(\"Insert into student_tb values(%s,%s,%s)\",(id,name,dept))\n",
    "print(\"INSERTED SUCCESSFULLY\")\n",
    "conn.commit()"
   ]
  },
  {
   "cell_type": "markdown",
   "id": "60653793-43bc-425a-8f31-0289e24e0464",
   "metadata": {},
   "source": [
    "# Select from table\n"
   ]
  },
  {
   "cell_type": "code",
   "execution_count": 50,
   "id": "ce4e75b1-1018-4acf-adec-0d8276b49ce1",
   "metadata": {},
   "outputs": [
    {
     "name": "stdout",
     "output_type": "stream",
     "text": [
      "(20, 'rahul', 'cs')\n",
      "(20, 'rahul', 'cs')\n",
      "(4, 'leo10', 'cs')\n"
     ]
    }
   ],
   "source": [
    "query=\"Select * from student_tb\"\n",
    "cur.execute(query)\n",
    "result=cur.fetchall()\n",
    "for row in result :\n",
    "    print(row)"
   ]
  },
  {
   "cell_type": "markdown",
   "id": "9aadff71-36f7-433c-86cf-1913279de5b9",
   "metadata": {},
   "source": [
    "# Update the table"
   ]
  },
  {
   "cell_type": "code",
   "execution_count": 25,
   "id": "a616d819-1371-4ed2-98bd-51f5d02e4391",
   "metadata": {},
   "outputs": [
    {
     "name": "stdin",
     "output_type": "stream",
     "text": [
      "Enter id to update :  2\n",
      "Enter new name :  ram\n",
      "Enter new dept :  cs\n"
     ]
    },
    {
     "name": "stdout",
     "output_type": "stream",
     "text": [
      "1\n"
     ]
    }
   ],
   "source": [
    "id=input(\"Enter id to update : \")\n",
    "name=input(\"Enter new name : \")\n",
    "dept=input(\"Enter new dept : \")\n",
    "cur.execute(\"Update student_tb set name=%s, department=%s where id=%s\",(name,dept,id))\n",
    "print(cur.rowcount)"
   ]
  },
  {
   "cell_type": "markdown",
   "id": "232d7dee-64f1-4792-a7b1-32f85a9b31ba",
   "metadata": {},
   "source": [
    "# Delete From Table\n"
   ]
  },
  {
   "cell_type": "code",
   "execution_count": 36,
   "id": "626ca6a7-c643-4bdb-ad9e-1426b77070e9",
   "metadata": {},
   "outputs": [
    {
     "name": "stdin",
     "output_type": "stream",
     "text": [
      "Enter the id to delete:  2\n"
     ]
    },
    {
     "name": "stdout",
     "output_type": "stream",
     "text": [
      "1  Deleted\n"
     ]
    }
   ],
   "source": [
    "id = input(\"Enter the id to delete: \")\n",
    "cur.execute(\"Delete from student_tb where id=%s\",(id,))\n",
    "print(cur.rowcount, \" Deleted\")"
   ]
  },
  {
   "cell_type": "code",
   "execution_count": null,
   "id": "002ade0e-ee29-4733-b039-e8a747abf7f1",
   "metadata": {},
   "outputs": [],
   "source": []
  }
 ],
 "metadata": {
  "kernelspec": {
   "display_name": "Python 3 (ipykernel)",
   "language": "python",
   "name": "python3"
  },
  "language_info": {
   "codemirror_mode": {
    "name": "ipython",
    "version": 3
   },
   "file_extension": ".py",
   "mimetype": "text/x-python",
   "name": "python",
   "nbconvert_exporter": "python",
   "pygments_lexer": "ipython3",
   "version": "3.12.4"
  }
 },
 "nbformat": 4,
 "nbformat_minor": 5
}
