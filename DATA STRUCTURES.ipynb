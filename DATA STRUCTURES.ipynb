{
 "cells": [
  {
   "cell_type": "raw",
   "id": "6d0b10ac-5e83-4ebb-8726-88652541163f",
   "metadata": {},
   "source": [
    "# LIST\n"
   ]
  },
  {
   "cell_type": "code",
   "execution_count": 71,
   "id": "96ead0e0-d83e-49f1-bf36-099744a1b6fe",
   "metadata": {},
   "outputs": [
    {
     "name": "stdout",
     "output_type": "stream",
     "text": [
      "[1, 2, 3]\n"
     ]
    }
   ],
   "source": [
    "listt=[1,2,3]\n",
    "print(listt)"
   ]
  },
  {
   "cell_type": "code",
   "execution_count": 12,
   "id": "63f02a79-5009-49a2-bc01-921e857d0678",
   "metadata": {},
   "outputs": [
    {
     "name": "stdout",
     "output_type": "stream",
     "text": [
      "3\n"
     ]
    }
   ],
   "source": [
    "print(listt[-1])"
   ]
  },
  {
   "cell_type": "code",
   "execution_count": 72,
   "id": "fbe9d327-c736-4b7e-ba71-d48103ebb066",
   "metadata": {},
   "outputs": [
    {
     "name": "stdout",
     "output_type": "stream",
     "text": [
      "['apple', 'orange', 'carrot']\n"
     ]
    }
   ],
   "source": [
    "listt1=[\"apple\",\"orange\",\"carrot\"]\n",
    "print(listt1)"
   ]
  },
  {
   "cell_type": "code",
   "execution_count": 73,
   "id": "6a5d11de-b12c-474a-846b-8c87bbd66f71",
   "metadata": {},
   "outputs": [
    {
     "name": "stdout",
     "output_type": "stream",
     "text": [
      "[1, 2, 3, 'abc']\n"
     ]
    }
   ],
   "source": [
    "listt.append(\"abc\")\n",
    "print(listt)"
   ]
  },
  {
   "cell_type": "code",
   "execution_count": 74,
   "id": "7b786868-fa7a-4000-af48-683672783bab",
   "metadata": {},
   "outputs": [],
   "source": [
    "listt.insert(2,\"sample\")"
   ]
  },
  {
   "cell_type": "code",
   "execution_count": 16,
   "id": "72df3562-6231-41e0-a5d4-5ec53d974f19",
   "metadata": {},
   "outputs": [
    {
     "name": "stdout",
     "output_type": "stream",
     "text": [
      "[1, 2, 'sample', 3, 'abc']\n"
     ]
    }
   ],
   "source": [
    "print(listt)"
   ]
  },
  {
   "cell_type": "code",
   "execution_count": 75,
   "id": "417090ee-e284-4b89-97cb-460aaaf28708",
   "metadata": {},
   "outputs": [
    {
     "name": "stdout",
     "output_type": "stream",
     "text": [
      "[1, 2, 'sample', 3, 'abc', 'apple', 'orange', 'carrot']\n"
     ]
    }
   ],
   "source": [
    "listt.extend(listt1)\n",
    "print(listt)"
   ]
  },
  {
   "cell_type": "code",
   "execution_count": 18,
   "id": "e4c07fff-620e-4761-9a8e-8eaf81efb214",
   "metadata": {},
   "outputs": [
    {
     "name": "stdout",
     "output_type": "stream",
     "text": [
      "8\n"
     ]
    }
   ],
   "source": [
    "print(len(listt))"
   ]
  },
  {
   "cell_type": "code",
   "execution_count": 76,
   "id": "91f48c3d-bb51-4f09-8c75-4d94743a00eb",
   "metadata": {},
   "outputs": [
    {
     "name": "stdout",
     "output_type": "stream",
     "text": [
      "apple\n",
      "banana\n",
      "cherry\n"
     ]
    },
    {
     "data": {
      "text/plain": [
       "[None, None, None]"
      ]
     },
     "execution_count": 76,
     "metadata": {},
     "output_type": "execute_result"
    }
   ],
   "source": [
    "thislistt = [\"apple\", \"banana\", \"cherry\"]\n",
    "[print(x) for x in thislistt]"
   ]
  },
  {
   "cell_type": "code",
   "execution_count": 20,
   "id": "807afd45-884a-433f-97dd-f645c3f928f5",
   "metadata": {},
   "outputs": [
    {
     "name": "stdout",
     "output_type": "stream",
     "text": [
      "['apple', 'banana', 'mango']\n"
     ]
    }
   ],
   "source": [
    "fruits = [\"apple\", \"banana\", \"cherry\", \"kiwi\", \"mango\"]\n",
    "newlistt = []\n",
    "\n",
    "for x in fruits:\n",
    "  if \"a\" in x:\n",
    "    newlistt.append(x)\n",
    "\n",
    "print(newlistt)"
   ]
  },
  {
   "cell_type": "code",
   "execution_count": 21,
   "id": "232fce03-8748-4ca1-9ca4-a0c09bf50995",
   "metadata": {},
   "outputs": [
    {
     "name": "stdout",
     "output_type": "stream",
     "text": [
      "['banana', 'kiwi', 'mango', 'orange', 'pineapple']\n"
     ]
    }
   ],
   "source": [
    "thislistt = [\"orange\", \"mango\", \"kiwi\", \"pineapple\", \"banana\"]\n",
    "thislistt.sort()\n",
    "print(thislistt)"
   ]
  },
  {
   "cell_type": "code",
   "execution_count": 78,
   "id": "c9104e8c-3887-4065-844b-99c34d9cb9b8",
   "metadata": {},
   "outputs": [
    {
     "name": "stdin",
     "output_type": "stream",
     "text": [
      "Enter n :  1\n",
      "Enter listt elemnt 1\n"
     ]
    },
    {
     "name": "stdout",
     "output_type": "stream",
     "text": [
      "['1']\n",
      "Sum= 0\n"
     ]
    }
   ],
   "source": [
    "n=int(input(\"Enter n : \"))\n",
    "listt=[]\n",
    "sum=0\n",
    "for i in range(n):\n",
    "    x=input(\"Enter listt elemnt\")\n",
    "    listt.append(x)\n",
    "    if isinstance(x,(int,float)):\n",
    "      sum+=x\n",
    "print(listt)\n",
    "print(f\"Sum= {sum}\") "
   ]
  },
  {
   "cell_type": "markdown",
   "id": "9ff72112-d5da-49d4-8afe-9c2b60b20fae",
   "metadata": {},
   "source": [
    "# TUPLE\n"
   ]
  },
  {
   "cell_type": "code",
   "execution_count": 24,
   "id": "09c008d3-b663-4d8d-bff5-1c811428b888",
   "metadata": {},
   "outputs": [
    {
     "name": "stdout",
     "output_type": "stream",
     "text": [
      "('apple', 'banana', 'cherry')\n"
     ]
    }
   ],
   "source": [
    "thistuple = (\"apple\", \"banana\", \"cherry\")\n",
    "print(thistuple)"
   ]
  },
  {
   "cell_type": "code",
   "execution_count": 25,
   "id": "953858a3-4e4a-4643-93f7-a771bcd183e6",
   "metadata": {},
   "outputs": [
    {
     "name": "stdout",
     "output_type": "stream",
     "text": [
      "3\n"
     ]
    }
   ],
   "source": [
    "thistuple = (\"apple\", \"banana\", \"cherry\")\n",
    "print(len(thistuple))"
   ]
  },
  {
   "cell_type": "code",
   "execution_count": 26,
   "id": "dd2a02d5-6541-44d3-9319-3b1eb8171400",
   "metadata": {},
   "outputs": [
    {
     "name": "stdout",
     "output_type": "stream",
     "text": [
      "('apple', 'banana', 'cherry')\n"
     ]
    }
   ],
   "source": [
    "thistuple = tuple((\"apple\", \"banana\", \"cherry\")) # note the double round-brackets\n",
    "print(thistuple)"
   ]
  },
  {
   "cell_type": "code",
   "execution_count": 27,
   "id": "94961994-1dd0-4236-9797-a0d257ac90e4",
   "metadata": {},
   "outputs": [
    {
     "name": "stdout",
     "output_type": "stream",
     "text": [
      "('cherry', 'orange', 'kiwi')\n"
     ]
    }
   ],
   "source": [
    "thistuple = (\"apple\", \"banana\", \"cherry\", \"orange\", \"kiwi\", \"melon\", \"mango\")\n",
    "print(thistuple[2:5])"
   ]
  },
  {
   "cell_type": "code",
   "execution_count": 28,
   "id": "7be2e01b-6fd1-4e5b-84d3-34f2f77d3bc1",
   "metadata": {},
   "outputs": [
    {
     "name": "stdout",
     "output_type": "stream",
     "text": [
      "('apple', 'banana', 'cherry', 'apple', 'banana', 'cherry')\n"
     ]
    }
   ],
   "source": [
    "fruits = (\"apple\", \"banana\", \"cherry\")\n",
    "mytuple = fruits * 2\n",
    "\n",
    "print(mytuple)"
   ]
  },
  {
   "cell_type": "markdown",
   "id": "a7a3cb71-905d-4ea1-a749-08d46c5e26d0",
   "metadata": {},
   "source": [
    "# SETS"
   ]
  },
  {
   "cell_type": "code",
   "execution_count": 29,
   "id": "9709f806-4530-4986-ae19-2a544352e09b",
   "metadata": {},
   "outputs": [
    {
     "name": "stdout",
     "output_type": "stream",
     "text": [
      "{'banana', 'apple', 'cherry'}\n"
     ]
    }
   ],
   "source": [
    "thisset = {\"apple\", \"banana\", \"cherry\"}\n",
    "print(thisset)"
   ]
  },
  {
   "cell_type": "code",
   "execution_count": 31,
   "id": "416d814e-25fd-49a1-973d-bd7f9080e722",
   "metadata": {},
   "outputs": [
    {
     "name": "stdout",
     "output_type": "stream",
     "text": [
      "{1, 2, 3, 'c', 'a', 'b'}\n"
     ]
    }
   ],
   "source": [
    "x = {\"a\", \"b\", \"c\"}\n",
    "y = (1, 2, 3)\n",
    "\n",
    "z = x.union(y)\n",
    "print(z)"
   ]
  },
  {
   "cell_type": "markdown",
   "id": "660732c7-278e-4f4a-846e-f801a9b77eb5",
   "metadata": {},
   "source": [
    "# Dictionaries\n"
   ]
  },
  {
   "cell_type": "code",
   "execution_count": 32,
   "id": "8683222d-aeb7-4be5-a592-5eff1337d642",
   "metadata": {},
   "outputs": [
    {
     "name": "stdout",
     "output_type": "stream",
     "text": [
      "{'name': 'ram', 'age': 29}\n"
     ]
    }
   ],
   "source": [
    "dict = { \"name\" : \"ram\", \"age\":29}\n",
    "print(dict)"
   ]
  },
  {
   "cell_type": "code",
   "execution_count": 33,
   "id": "3d940276-f5ed-461b-9737-dee1d59ea3b6",
   "metadata": {},
   "outputs": [
    {
     "name": "stdout",
     "output_type": "stream",
     "text": [
      "2\n"
     ]
    }
   ],
   "source": [
    "print(len(dict))"
   ]
  },
  {
   "cell_type": "code",
   "execution_count": 35,
   "id": "a6004515-0d26-4e59-b58c-43334292590a",
   "metadata": {},
   "outputs": [
    {
     "name": "stdout",
     "output_type": "stream",
     "text": [
      "ram\n"
     ]
    }
   ],
   "source": [
    "x = dict.get(\"name\")\n",
    "print(x)"
   ]
  },
  {
   "cell_type": "code",
   "execution_count": 36,
   "id": "9b6a1d11-8e65-4562-ae6c-cc3fac15ddb9",
   "metadata": {},
   "outputs": [
    {
     "name": "stdout",
     "output_type": "stream",
     "text": [
      "dict_keys(['name', 'age'])\n"
     ]
    }
   ],
   "source": [
    "print(dict.keys())"
   ]
  },
  {
   "cell_type": "code",
   "execution_count": 37,
   "id": "213eb6b6-48fd-4d88-b241-c35ec75269f5",
   "metadata": {},
   "outputs": [
    {
     "name": "stdout",
     "output_type": "stream",
     "text": [
      "dict_values(['ram', 29])\n"
     ]
    }
   ],
   "source": [
    "x = dict.values()\n",
    "print(x)"
   ]
  },
  {
   "cell_type": "code",
   "execution_count": 79,
   "id": "4684cc67-f29c-471b-985b-58055d000df8",
   "metadata": {},
   "outputs": [
    {
     "name": "stdin",
     "output_type": "stream",
     "text": [
      "Enter the number of students:  1\n",
      "Enter the student's name:  abc\n",
      "Enter the marks for abc, separated by spaces:  10\n"
     ]
    },
    {
     "ename": "TypeError",
     "evalue": "'list' object is not callable",
     "output_type": "error",
     "traceback": [
      "\u001b[1;31m---------------------------------------------------------------------------\u001b[0m",
      "\u001b[1;31mTypeError\u001b[0m                                 Traceback (most recent call last)",
      "Cell \u001b[1;32mIn[79], line 10\u001b[0m\n\u001b[0;32m      8\u001b[0m \u001b[38;5;28;01mfor\u001b[39;00m _ \u001b[38;5;129;01min\u001b[39;00m \u001b[38;5;28mrange\u001b[39m(num_students):\n\u001b[0;32m      9\u001b[0m     name \u001b[38;5;241m=\u001b[39m \u001b[38;5;28minput\u001b[39m(\u001b[38;5;124m\"\u001b[39m\u001b[38;5;124mEnter the student\u001b[39m\u001b[38;5;124m'\u001b[39m\u001b[38;5;124ms name: \u001b[39m\u001b[38;5;124m\"\u001b[39m)\n\u001b[1;32m---> 10\u001b[0m     marks \u001b[38;5;241m=\u001b[39m \u001b[38;5;28;43mlist\u001b[39;49m\u001b[43m(\u001b[49m\u001b[38;5;28;43mmap\u001b[39;49m\u001b[43m(\u001b[49m\u001b[38;5;28;43mint\u001b[39;49m\u001b[43m,\u001b[49m\u001b[43m \u001b[49m\u001b[38;5;28;43minput\u001b[39;49m\u001b[43m(\u001b[49m\u001b[38;5;124;43mf\u001b[39;49m\u001b[38;5;124;43m\"\u001b[39;49m\u001b[38;5;124;43mEnter the marks for \u001b[39;49m\u001b[38;5;132;43;01m{\u001b[39;49;00m\u001b[43mname\u001b[49m\u001b[38;5;132;43;01m}\u001b[39;49;00m\u001b[38;5;124;43m, separated by spaces: \u001b[39;49m\u001b[38;5;124;43m\"\u001b[39;49m\u001b[43m)\u001b[49m\u001b[38;5;241;43m.\u001b[39;49m\u001b[43msplit\u001b[49m\u001b[43m(\u001b[49m\u001b[43m)\u001b[49m\u001b[43m)\u001b[49m\u001b[43m)\u001b[49m\n\u001b[0;32m     11\u001b[0m     students_marks[name] \u001b[38;5;241m=\u001b[39m marks\n\u001b[0;32m     13\u001b[0m \u001b[38;5;66;03m# Calculate and print the average marks for each student\u001b[39;00m\n",
      "\u001b[1;31mTypeError\u001b[0m: 'list' object is not callable"
     ]
    }
   ],
   "source": [
    "\n",
    "# Initialize an empty dictionary\n",
    "students_marks = {}\n",
    "\n",
    "# Get the number of students\n",
    "num_students = int(input(\"Enter the number of students: \"))\n",
    "\n",
    "# Get marks for each student\n",
    "for _ in range(num_students):\n",
    "    name = input(\"Enter the student's name: \")\n",
    "    marks = list(map(int, input(f\"Enter the marks for {name}, separated by spaces: \").split()))\n",
    "    students_marks[name] = marks\n",
    "\n",
    "# Calculate and print the average marks for each student\n",
    "for student, marks in students_marks.items():\n",
    "    average_marks = sum(marks) / len(marks)\n",
    "    print(f\"{student}'s average marks: {average_marks:.2f}\")\n"
   ]
  },
  {
   "cell_type": "markdown",
   "id": "26e7c678-2556-4c50-8f7d-29345095041f",
   "metadata": {},
   "source": [
    "# FILES"
   ]
  },
  {
   "cell_type": "code",
   "execution_count": 65,
   "id": "0e595a61-342e-4b79-a029-32e8464b42b7",
   "metadata": {},
   "outputs": [
    {
     "name": "stdout",
     "output_type": "stream",
     "text": [
      "['Hello!', 'Welcome', 'to', 'demofile.txt', 'This', 'file', 'is', 'for', 'testing', 'purposes.', 'Good', 'Luck!']\n",
      "12\n"
     ]
    }
   ],
   "source": [
    "f=open(\"sample.txt\")\n",
    "x=f.read()\n",
    "count=x.split()\n",
    "print(count)\n",
    "x=len(count)\n",
    "print(x)"
   ]
  },
  {
   "cell_type": "code",
   "execution_count": 66,
   "id": "5a813b1e-9338-474d-a84f-13294abd6aa2",
   "metadata": {},
   "outputs": [
    {
     "name": "stdout",
     "output_type": "stream",
     "text": [
      "12\n"
     ]
    }
   ],
   "source": [
    "f = open(\"myfile.txt\", \"w\")\n",
    "f.write(str(x))\n",
    "f.close()\n",
    "f=open(\"myfile.txt\",\"r\")\n",
    "print(f.read())"
   ]
  },
  {
   "cell_type": "code",
   "execution_count": 61,
   "id": "ffcd6651-37ca-4c40-b6e4-c50e3756a3d0",
   "metadata": {},
   "outputs": [
    {
     "name": "stdout",
     "output_type": "stream",
     "text": [
      "3\n"
     ]
    }
   ],
   "source": [
    "count=0\n",
    "with open(\"sample.txt\") as file :\n",
    "    for line in file:\n",
    "       count+=1\n",
    "\n",
    "print(count)"
   ]
  },
  {
   "cell_type": "code",
   "execution_count": null,
   "id": "c9ffef5b-d121-4854-8403-8590a0686834",
   "metadata": {},
   "outputs": [],
   "source": []
  }
 ],
 "metadata": {
  "kernelspec": {
   "display_name": "Python 3 (ipykernel)",
   "language": "python",
   "name": "python3"
  },
  "language_info": {
   "codemirror_mode": {
    "name": "ipython",
    "version": 3
   },
   "file_extension": ".py",
   "mimetype": "text/x-python",
   "name": "python",
   "nbconvert_exporter": "python",
   "pygments_lexer": "ipython3",
   "version": "3.12.4"
  }
 },
 "nbformat": 4,
 "nbformat_minor": 5
}
