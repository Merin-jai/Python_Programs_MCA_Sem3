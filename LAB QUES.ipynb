{
 "cells": [
  {
   "cell_type": "code",
   "execution_count": 4,
   "id": "5c29ed9a-6f7b-49b6-8a6b-26064d4f050f",
   "metadata": {},
   "outputs": [
    {
     "name": "stdout",
     "output_type": "stream",
     "text": [
      "[1, 2, 3, 4]\n",
      "<class 'list'>\n",
      "1\n"
     ]
    }
   ],
   "source": [
    "list=[1,2,3,4]\n",
    "print(list)\n",
    "print(type(list))\n",
    "print(list[0])"
   ]
  },
  {
   "cell_type": "code",
   "execution_count": 6,
   "id": "111958fa-5643-4c7e-aac0-debf18616c1b",
   "metadata": {},
   "outputs": [
    {
     "name": "stdout",
     "output_type": "stream",
     "text": [
      "35\n"
     ]
    }
   ],
   "source": [
    "list1=[\"leo\",10,25,\"merin\"]\n",
    "sum=0\n",
    "for n in list1 : \n",
    "    if isinstance(n,(int)) :\n",
    "     sum=sum+n\n",
    "print(sum)"
   ]
  },
  {
   "cell_type": "markdown",
   "id": "9585f802-ae25-4e0f-b53f-69dd9e4cf64e",
   "metadata": {},
   "source": [
    "# Q1 Create a simple calculator in Python"
   ]
  },
  {
   "cell_type": "code",
   "execution_count": 11,
   "id": "83853ae0-da60-4b4f-b094-5c2ed104c43d",
   "metadata": {},
   "outputs": [
    {
     "name": "stdin",
     "output_type": "stream",
     "text": [
      "Enter a number :  3\n",
      "Enter a number :  4\n",
      "Enter operator(+,-,/,%,* ) : +\n"
     ]
    },
    {
     "name": "stdout",
     "output_type": "stream",
     "text": [
      "7\n"
     ]
    }
   ],
   "source": [
    "x=int(input(\"Enter a number : \"))\n",
    "y=int(input(\"Enter a number : \"))\n",
    "op = input(\"Enter operator(+,-,/,%,* ) :\" )\n",
    "if op=='+':\n",
    "    sum=x+y\n",
    "elif op=='-':\n",
    "    sum=x-y\n",
    "print(sum)"
   ]
  },
  {
   "cell_type": "markdown",
   "id": "066cb6d8-21ec-4dc1-968d-24590641935a",
   "metadata": {},
   "source": [
    "# Q2 Print the pyramid of numbers using for loops."
   ]
  },
  {
   "cell_type": "code",
   "execution_count": 24,
   "id": "03526147-d247-4456-ac94-958c5f1e75c1",
   "metadata": {},
   "outputs": [
    {
     "name": "stdin",
     "output_type": "stream",
     "text": [
      "Enter limit :  5\n"
     ]
    },
    {
     "name": "stdout",
     "output_type": "stream",
     "text": [
      "     1 \n",
      "    2 2 \n",
      "   3 3 3 \n",
      "  4 4 4 4 \n"
     ]
    }
   ],
   "source": [
    "x=int(input(\"Enter limit : \"))\n",
    "for i in range(1,x):\n",
    "    print(' '*(x-i),end=\" \")\n",
    "    for j in range(0,i):\n",
    "      print(i,end=\" \")\n",
    "    print()\n",
    "    "
   ]
  },
  {
   "cell_type": "markdown",
   "id": "a63d4d37-17c6-4097-9105-0835195ba5a0",
   "metadata": {},
   "source": [
    "\n",
    " # Q3 Write a program to find the number and sum of all integers greater than 100 and less than 200 that are divisible by 7"
   ]
  },
  {
   "cell_type": "code",
   "execution_count": 26,
   "id": "44b1b7ae-fe5c-4292-ad5c-789955f92b5d",
   "metadata": {},
   "outputs": [
    {
     "name": "stdout",
     "output_type": "stream",
     "text": [
      "105\n",
      "112\n",
      "119\n",
      "126\n",
      "133\n",
      "140\n",
      "147\n",
      "154\n",
      "161\n",
      "168\n",
      "175\n",
      "182\n",
      "189\n",
      "196\n",
      "Sum=:2107\n"
     ]
    }
   ],
   "source": [
    "sum=0\n",
    "for i in range(100,200):\n",
    "    if i%7 == 0 : \n",
    "        sum=sum+i;\n",
    "        print(i)\n",
    "print(f\"Sum=:{sum}\")"
   ]
  },
  {
   "cell_type": "markdown",
   "id": "08a946eb-f4b7-4b63-9765-fd4331478f3f",
   "metadata": {},
   "source": [
    "# Q4 Write a recursive function to calculate the sum of numbers from 0 to 10\n"
   ]
  },
  {
   "cell_type": "code",
   "execution_count": 35,
   "id": "94852992-a7a5-4dce-ad7d-182330bec86d",
   "metadata": {},
   "outputs": [
    {
     "name": "stdout",
     "output_type": "stream",
     "text": [
      "Sum =  55\n"
     ]
    }
   ],
   "source": [
    "def sum(x) : \n",
    "    if x==0 :\n",
    "        return 0\n",
    "    return x + sum(x-1)\n",
    "print(\"Sum = \",sum(10))"
   ]
  },
  {
   "cell_type": "markdown",
   "id": "cc5d55d9-93aa-4617-8112-00fbce170045",
   "metadata": {},
   "source": [
    "# Q5 Write a Python program to reverse the digits of a given  number and add them to the original. If the sum is not a palindrome, repeat this procedure"
   ]
  },
  {
   "cell_type": "code",
   "execution_count": null,
   "id": "e73cffa7-4c64-41e5-ab27-eed6d68aee2f",
   "metadata": {},
   "outputs": [
    {
     "name": "stdin",
     "output_type": "stream",
     "text": [
      "enter a number :  123\n"
     ]
    }
   ],
   "source": [
    "def reverse(n):\n",
    "    rev=0\n",
    "    while n!=0 : \n",
    "        mod = n%10\n",
    "        rev=rev*10+mod\n",
    "        n=n/10\n",
    "    return rev\n",
    "\n",
    "n=int(input(\"enter a number : \"))\n",
    "sum=reverse(n)+n\n",
    "while(\n",
    "   "
   ]
  },
  {
   "cell_type": "markdown",
   "id": "babe0685-1e63-48c8-85ce-9a31ec04d725",
   "metadata": {},
   "source": [
    "# LIST\n"
   ]
  },
  {
   "cell_type": "code",
   "execution_count": null,
   "id": "8be8d522-cb5c-48cf-b3fa-2fd3ec1b7555",
   "metadata": {},
   "outputs": [],
   "source": [
    "list=[\"a\",\"b\",\"c\"]\n",
    "print(list)"
   ]
  },
  {
   "cell_type": "code",
   "execution_count": null,
   "id": "143e6a60-7b35-4f00-9ddc-de422d5e7670",
   "metadata": {},
   "outputs": [],
   "source": []
  }
 ],
 "metadata": {
  "kernelspec": {
   "display_name": "Python 3 (ipykernel)",
   "language": "python",
   "name": "python3"
  },
  "language_info": {
   "codemirror_mode": {
    "name": "ipython",
    "version": 3
   },
   "file_extension": ".py",
   "mimetype": "text/x-python",
   "name": "python",
   "nbconvert_exporter": "python",
   "pygments_lexer": "ipython3",
   "version": "3.12.4"
  }
 },
 "nbformat": 4,
 "nbformat_minor": 5
}
